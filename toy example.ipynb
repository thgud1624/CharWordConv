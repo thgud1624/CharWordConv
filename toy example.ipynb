{
 "cells": [
  {
   "cell_type": "code",
   "execution_count": 2,
   "metadata": {},
   "outputs": [],
   "source": [
    "import pandas\n",
    "from pandas import DataFrame\n",
    "import re \n",
    "import numpy as np\n",
    "import gensim\n",
    "\n",
    "df = pandas.read_csv('data/test.csv', header=None)\n",
    "df.reindex(np.random.permutation(df.index))\n",
    "label = df[0].tolist()\n",
    "data = df[2].tolist()"
   ]
  },
  {
   "cell_type": "code",
   "execution_count": 3,
   "metadata": {
    "collapsed": true
   },
   "outputs": [],
   "source": [
    "def str2list(data) :\n",
    "    pattern = re.compile('([^a-zA-Z])')\n",
    "    m = []\n",
    "    for s in data : \n",
    "        m.append(pattern.sub(' ',s.lower()).split())\n",
    "    return m "
   ]
  },
  {
   "cell_type": "code",
   "execution_count": 6,
   "metadata": {
    "collapsed": true
   },
   "outputs": [],
   "source": [
    "str_matrix = str2list(data)"
   ]
  },
  {
   "cell_type": "code",
   "execution_count": 18,
   "metadata": {},
   "outputs": [
    {
     "data": {
      "text/plain": [
       "650000"
      ]
     },
     "execution_count": 18,
     "metadata": {},
     "output_type": "execute_result"
    }
   ],
   "source": [
    "len(str_matrix)"
   ]
  },
  {
   "cell_type": "code",
   "execution_count": 7,
   "metadata": {
    "collapsed": true
   },
   "outputs": [],
   "source": [
    "import gensim\n",
    "word2vec_model = gensim.models.Word2Vec(str_matrix, size=100)\n"
   ]
  },
  {
   "cell_type": "code",
   "execution_count": 12,
   "metadata": {},
   "outputs": [
    {
     "data": {
      "text/plain": [
       "array([ 1.10699689,  0.94251168,  5.74334526,  2.35457873, -0.31671903,\n",
       "       -2.03945065, -2.6262579 ,  0.35830846,  2.03757334,  1.02970397,\n",
       "        1.86918247,  3.26676154, -1.9713074 , -2.21451211, -0.32542899,\n",
       "        0.85629392, -0.39218485, -1.92119968,  2.22429395,  0.20680836,\n",
       "        0.99312013,  0.55372369,  1.65911448,  1.81126869,  0.91127479,\n",
       "       -1.44703603, -0.40617937, -1.67051101,  1.60387051, -0.76159865,\n",
       "       -0.55473709,  1.86288261, -1.68032885, -0.62583983,  2.53547549,\n",
       "       -3.33060908, -0.81032133, -3.02438641, -1.47671771, -0.30632582,\n",
       "        2.50154591, -1.10791445, -0.67905319,  1.05865693,  2.67808747,\n",
       "       -2.58104253,  3.39280796, -0.03305976,  1.93292058,  1.87454379,\n",
       "       -0.1337513 ,  0.62401736, -3.33502722,  3.63230991, -0.32606864,\n",
       "        2.18954611, -0.52621043,  1.87971973, -1.10105908, -1.28636193,\n",
       "        0.15732366, -0.1276733 , -2.00751662,  0.52323371, -2.7943399 ,\n",
       "       -2.98285651, -1.95156968, -0.42771113, -4.42588854, -0.95118183,\n",
       "        3.108284  ,  0.1912055 ,  0.96163732,  0.40043649, -1.45390069,\n",
       "       -1.30909812, -0.90886688, -1.54220355,  2.07749915, -2.14417052,\n",
       "        1.426687  , -5.29190016, -0.18287507, -2.07935238, -0.71174926,\n",
       "        0.31672481,  3.3594625 ,  3.07591367, -1.05282581,  1.83751762,\n",
       "       -0.98128396, -0.49680641, -0.73230433, -0.33697516,  2.96029162,\n",
       "        1.81896365, -1.02656198,  0.20928222,  2.34624887,  0.07433094], dtype=float32)"
      ]
     },
     "execution_count": 12,
     "metadata": {},
     "output_type": "execute_result"
    }
   ],
   "source": [
    "word2vec_model[\"good\"]"
   ]
  },
  {
   "cell_type": "code",
   "execution_count": 17,
   "metadata": {},
   "outputs": [],
   "source": [
    "import numpy as np"
   ]
  },
  {
   "cell_type": "code",
   "execution_count": 15,
   "metadata": {
    "collapsed": true
   },
   "outputs": [],
   "source": [
    "word2vec_model.save(\"amazon_test_wor2vec_model\")\n",
    "#model = Word2Vec.load(\"amazon_test_wor2vec_model\")"
   ]
  },
  {
   "cell_type": "code",
   "execution_count": 21,
   "metadata": {
    "collapsed": true
   },
   "outputs": [],
   "source": [
    "# discards words exceeding index \"num_words\"\n",
    "def wordlist2matrix(data, num_words, word_dim, word2vec_model) :\n",
    "    mat = np.zeros((len(data), word_dim, num_words))\n",
    "    for i, sentence in enumerate(data) : \n",
    "        for j, word in enumerate(sentence) : \n",
    "            if j == num_words :\n",
    "                break \n",
    "            if word in word2vec_model :\n",
    "                mat[i,:,j] = word2vec_model[word]\n",
    "    return mat "
   ]
  },
  {
   "cell_type": "code",
   "execution_count": 22,
   "metadata": {},
   "outputs": [],
   "source": [
    "num_matrix = wordlist2matrix(data, num_words=200, word_dim=100, word2vec_model)"
   ]
  },
  {
   "cell_type": "code",
   "execution_count": null,
   "metadata": {
    "collapsed": true
   },
   "outputs": [],
   "source": []
  }
 ],
 "metadata": {
  "kernelspec": {
   "display_name": "Python 3",
   "language": "python",
   "name": "python3"
  },
  "language_info": {
   "codemirror_mode": {
    "name": "ipython",
    "version": 3
   },
   "file_extension": ".py",
   "mimetype": "text/x-python",
   "name": "python",
   "nbconvert_exporter": "python",
   "pygments_lexer": "ipython3",
   "version": "3.5.2"
  }
 },
 "nbformat": 4,
 "nbformat_minor": 2
}
